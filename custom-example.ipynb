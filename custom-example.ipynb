{
 "cells": [
  {
   "cell_type": "code",
   "execution_count": 11,
   "metadata": {},
   "outputs": [],
   "source": [
    "import seaborn as sns\n",
    "import seaborn.objects as so\n",
    "import pandas as pd\n",
    "import numpy as np\n",
    "from collections import defaultdict\n",
    "import matplotlib.pyplot as plt\n",
    "\n",
    "# from seaborn._core.moves import Rolling\n",
    "# from seaborn._marks._line_labels import LineLabel"
   ]
  },
  {
   "cell_type": "code",
   "execution_count": 12,
   "metadata": {},
   "outputs": [
    {
     "name": "stdout",
     "output_type": "stream",
     "text": [
      "0.14.0.dev0\n"
     ]
    }
   ],
   "source": [
    "print(sns.__version__)"
   ]
  },
  {
   "cell_type": "code",
   "execution_count": 6,
   "metadata": {},
   "outputs": [
    {
     "name": "stdout",
     "output_type": "stream",
     "text": [
      "            Game  Episodic Return  Iteration   Agent\n",
      "0    ExampleGame        54.881350          0  Agent1\n",
      "1    ExampleGame        71.518937          1  Agent1\n",
      "2    ExampleGame        60.276338          2  Agent1\n",
      "3    ExampleGame        54.488318          3  Agent1\n",
      "4    ExampleGame        42.365480          4  Agent1\n",
      "..           ...              ...        ...     ...\n",
      "595  ExampleGame        99.796225        195  Agent3\n",
      "596  ExampleGame        36.218906        196  Agent3\n",
      "597  ExampleGame        47.064895        197  Agent3\n",
      "598  ExampleGame        37.824517        198  Agent3\n",
      "599  ExampleGame        97.952693        199  Agent3\n",
      "\n",
      "[600 rows x 4 columns]\n"
     ]
    }
   ],
   "source": [
    "# Parameters for simulation\n",
    "game = \"ExampleGame\"\n",
    "agents = [\"Agent1\", \"Agent2\", \"Agent3\"]\n",
    "num_iterations = 200\n",
    "num_agents = len(agents)\n",
    "\n",
    "# Create a simulated DataFrame\n",
    "np.random.seed(0)  # For reproducible results\n",
    "data = {\n",
    "    \"Game\": [game] * num_iterations * num_agents,\n",
    "    \"Episodic Return\": np.random.rand(num_iterations * num_agents)\n",
    "    * 100,  # Random performance metric\n",
    "    \"Iteration\": list(range(num_iterations)) * num_agents,\n",
    "    \"Agent\": np.repeat(agents, num_iterations),\n",
    "}\n",
    "\n",
    "df = pd.DataFrame(data)\n",
    "\n",
    "# Filtering for a specific game - in this case, it's redundant as we only have one game\n",
    "fd_data = df.query(f'Game == \"{game}\"')\n",
    "\n",
    "print(fd_data)"
   ]
  },
  {
   "cell_type": "code",
   "execution_count": 4,
   "metadata": {},
   "outputs": [],
   "source": [
    "# Assuming baselines.dopamine() returns a DataFrame\n",
    "# data = baselines.dopamine().query(f'`Game` == \"{game}\"')\n",
    "\n",
    "# Create a Seaborn Plot\n",
    "theme = \"darkgrid\"  # Define the theme variable\n",
    "plot = so.Plot(fd_data, y=\"Episodic Return\", x=\"Iteration\", color=\"Agent\", text=\"Agent\")\n",
    "\n",
    "# Configure plot layout, theme, facets, limits, and scales\n",
    "#plot.theme(theme)  # Use the defined theme variable\n",
    "#plot.set_theme(style=theme)\n",
    "plot.facet(\"Game\")\n",
    "plot.limit(x=(0, 200))\n",
    "plot.scale(\n",
    "    x=so.Continuous().tick(at=list(range(0, 201, 25))),\n",
    "    y=so.Continuous().tick(upto=5).label(like=\"{x:,.0f}\"),\n",
    ")\n",
    "\n",
    "# Add lines with Rolling transformation and LineLabel\n",
    "plot.add(\n",
    "    so.Line(), Rolling(window_type=\"gaussian\", window_kwargs={\"std\": 2}), legend=False\n",
    ")\n",
    "plot.add(\n",
    "    LineLabel(offset=5),\n",
    "    Rolling(window_type=\"gaussian\", window_kwargs={\"std\": 2}),\n",
    "    legend=False,\n",
    ")\n",
    "\n",
    "# Add error bands\n",
    "plot.add(so.Band(), so.Est(errorbar=\"se\"), legend=False)\n",
    "\n",
    "\n",
    "plt.show()"
   ]
  },
  {
   "cell_type": "code",
   "execution_count": 9,
   "metadata": {},
   "outputs": [
    {
     "ename": "AttributeError",
     "evalue": "module 'matplotlib.collections' has no attribute 'defaultdict'",
     "output_type": "error",
     "traceback": [
      "\u001b[1;31m---------------------------------------------------------------------------\u001b[0m",
      "\u001b[1;31mAttributeError\u001b[0m                            Traceback (most recent call last)",
      "File \u001b[1;32mc:\\Users\\Ofosu\\Desktop\\Duke\\Personal\\Projects\\seaborn_objects_ext\\.venv\\Lib\\site-packages\\IPython\\core\\formatters.py:344\u001b[0m, in \u001b[0;36mBaseFormatter.__call__\u001b[1;34m(self, obj)\u001b[0m\n\u001b[0;32m    342\u001b[0m     method \u001b[39m=\u001b[39m get_real_method(obj, \u001b[39mself\u001b[39m\u001b[39m.\u001b[39mprint_method)\n\u001b[0;32m    343\u001b[0m     \u001b[39mif\u001b[39;00m method \u001b[39mis\u001b[39;00m \u001b[39mnot\u001b[39;00m \u001b[39mNone\u001b[39;00m:\n\u001b[1;32m--> 344\u001b[0m         \u001b[39mreturn\u001b[39;00m method()\n\u001b[0;32m    345\u001b[0m     \u001b[39mreturn\u001b[39;00m \u001b[39mNone\u001b[39;00m\n\u001b[0;32m    346\u001b[0m \u001b[39melse\u001b[39;00m:\n",
      "File \u001b[1;32mc:\\Users\\Ofosu\\Desktop\\Duke\\Personal\\Projects\\seaborn_objects_ext\\seaborn\\_core\\plot.py:387\u001b[0m, in \u001b[0;36mPlot._repr_png_\u001b[1;34m(self)\u001b[0m\n\u001b[0;32m    385\u001b[0m \u001b[39mif\u001b[39;00m Plot\u001b[39m.\u001b[39mconfig\u001b[39m.\u001b[39mdisplay[\u001b[39m\"\u001b[39m\u001b[39mformat\u001b[39m\u001b[39m\"\u001b[39m] \u001b[39m!=\u001b[39m \u001b[39m\"\u001b[39m\u001b[39mpng\u001b[39m\u001b[39m\"\u001b[39m:\n\u001b[0;32m    386\u001b[0m     \u001b[39mreturn\u001b[39;00m \u001b[39mNone\u001b[39;00m\n\u001b[1;32m--> 387\u001b[0m \u001b[39mreturn\u001b[39;00m \u001b[39mself\u001b[39;49m\u001b[39m.\u001b[39;49mplot()\u001b[39m.\u001b[39m_repr_png_()\n",
      "File \u001b[1;32mc:\\Users\\Ofosu\\Desktop\\Duke\\Personal\\Projects\\seaborn_objects_ext\\seaborn\\_core\\plot.py:934\u001b[0m, in \u001b[0;36mPlot.plot\u001b[1;34m(self, pyplot)\u001b[0m\n\u001b[0;32m    930\u001b[0m \u001b[39m\u001b[39m\u001b[39m\"\"\"\u001b[39;00m\n\u001b[0;32m    931\u001b[0m \u001b[39mCompile the plot spec and return the Plotter object.\u001b[39;00m\n\u001b[0;32m    932\u001b[0m \u001b[39m\"\"\"\u001b[39;00m\n\u001b[0;32m    933\u001b[0m \u001b[39mwith\u001b[39;00m theme_context(\u001b[39mself\u001b[39m\u001b[39m.\u001b[39m_theme_with_defaults()):\n\u001b[1;32m--> 934\u001b[0m     \u001b[39mreturn\u001b[39;00m \u001b[39mself\u001b[39;49m\u001b[39m.\u001b[39;49m_plot(pyplot)\n",
      "File \u001b[1;32mc:\\Users\\Ofosu\\Desktop\\Duke\\Personal\\Projects\\seaborn_objects_ext\\seaborn\\_core\\plot.py:964\u001b[0m, in \u001b[0;36mPlot._plot\u001b[1;34m(self, pyplot)\u001b[0m\n\u001b[0;32m    962\u001b[0m \u001b[39m# Process the data for each layer and add matplotlib artists\u001b[39;00m\n\u001b[0;32m    963\u001b[0m \u001b[39mfor\u001b[39;00m layer \u001b[39min\u001b[39;00m layers:\n\u001b[1;32m--> 964\u001b[0m     plotter\u001b[39m.\u001b[39;49m_plot_layer(\u001b[39mself\u001b[39;49m, layer)\n\u001b[0;32m    966\u001b[0m \u001b[39m# Add various figure decorations\u001b[39;00m\n\u001b[0;32m    967\u001b[0m plotter\u001b[39m.\u001b[39m_make_legend(\u001b[39mself\u001b[39m)\n",
      "File \u001b[1;32mc:\\Users\\Ofosu\\Desktop\\Duke\\Personal\\Projects\\seaborn_objects_ext\\seaborn\\_core\\plot.py:1501\u001b[0m, in \u001b[0;36mPlotter._plot_layer\u001b[1;34m(self, p, layer)\u001b[0m\n\u001b[0;32m   1498\u001b[0m     grouping_vars \u001b[39m=\u001b[39m mark\u001b[39m.\u001b[39m_grouping_props \u001b[39m+\u001b[39m default_grouping_vars\n\u001b[0;32m   1499\u001b[0m     split_generator \u001b[39m=\u001b[39m \u001b[39mself\u001b[39m\u001b[39m.\u001b[39m_setup_split_generator(grouping_vars, df, subplots)\n\u001b[1;32m-> 1501\u001b[0m     mark\u001b[39m.\u001b[39;49m_plot(split_generator, scales, orient)\n\u001b[0;32m   1503\u001b[0m \u001b[39m# TODO is this the right place for this?\u001b[39;00m\n\u001b[0;32m   1504\u001b[0m \u001b[39mfor\u001b[39;00m view \u001b[39min\u001b[39;00m \u001b[39mself\u001b[39m\u001b[39m.\u001b[39m_subplots:\n",
      "File \u001b[1;32mc:\\Users\\Ofosu\\Desktop\\Duke\\Personal\\Projects\\seaborn_objects_ext\\seaborn\\_marks\\_line_labels.py:97\u001b[0m, in \u001b[0;36mLineLabel._plot\u001b[1;34m(self, split_gen, scales, orient)\u001b[0m\n\u001b[0;32m     94\u001b[0m \u001b[39mdef\u001b[39;00m \u001b[39m_plot\u001b[39m(\u001b[39mself\u001b[39m, split_gen, scales, orient):\n\u001b[0;32m     95\u001b[0m     data_by_axes: \u001b[39mdict\u001b[39m[\n\u001b[0;32m     96\u001b[0m         mpl\u001b[39m.\u001b[39maxes\u001b[39m.\u001b[39mAxes, \u001b[39mlist\u001b[39m[Mapping[\u001b[39mstr\u001b[39m, Any]]\n\u001b[1;32m---> 97\u001b[0m     ] \u001b[39m=\u001b[39m collections\u001b[39m.\u001b[39;49mdefaultdict(\n\u001b[0;32m     98\u001b[0m         \u001b[39mlist\u001b[39m\n\u001b[0;32m     99\u001b[0m     )  \u001b[39m# pyright: ignore\u001b[39;00m\n\u001b[0;32m    101\u001b[0m     other \u001b[39m=\u001b[39m {\u001b[39m\"\u001b[39m\u001b[39mx\u001b[39m\u001b[39m\"\u001b[39m: \u001b[39m\"\u001b[39m\u001b[39my\u001b[39m\u001b[39m\"\u001b[39m, \u001b[39m\"\u001b[39m\u001b[39my\u001b[39m\u001b[39m\"\u001b[39m: \u001b[39m\"\u001b[39m\u001b[39mx\u001b[39m\u001b[39m\"\u001b[39m}[orient]\n\u001b[0;32m    102\u001b[0m     \u001b[39mfor\u001b[39;00m keys, data, ax \u001b[39min\u001b[39;00m split_gen():\n",
      "\u001b[1;31mAttributeError\u001b[0m: module 'matplotlib.collections' has no attribute 'defaultdict'"
     ]
    },
    {
     "data": {
      "text/plain": [
       "<seaborn._core.plot.Plot at 0x1bdbc1e8a90>"
      ]
     },
     "execution_count": 9,
     "metadata": {},
     "output_type": "execute_result"
    }
   ],
   "source": [
    "theme = \"darkgrid\"\n",
    "game = \"ExampleGame\"\n",
    "\n",
    "(\n",
    "    fd_data.query(f'`Game` == \"{game}\"')\n",
    "    .pipe(so.Plot, y=\"Episodic Return\", x=\"Iteration\", color=\"Agent\", text=\"Agent\")\n",
    "    .layout(size=(16, 8))\n",
    "    #.theme(theme)\n",
    "    .facet(\"Game\")\n",
    "    .limit(x=(0, 200))\n",
    "    .scale(\n",
    "        x=so.Continuous().tick(at=list(range(0, 201, 25))),\n",
    "        y=so.Continuous().tick(upto=5).label(like=\"{x:,.0f}\"),\n",
    "    )\n",
    "    .add(\n",
    "        so.Lines(),\n",
    "        so.Agg(),\n",
    "        so.Rolling(window_type=\"gaussian\", window_kwargs={\"std\": 2}),\n",
    "        legend=False,\n",
    "    )\n",
    "    # This will be much easier when compound marks are implemented.\n",
    "    # Will be able to do so.Line() + LineLabel().\n",
    "    .add(\n",
    "        so.LineLabel(offset=5),\n",
    "        so.Agg(),\n",
    "        so.Rolling(window_type=\"gaussian\", window_kwargs={\"std\": 2}),\n",
    "        legend=False,\n",
    "    )\n",
    "    .add(so.Band(), so.Est(errorbar=\"se\"), legend=False)\n",
    ")"
   ]
  }
 ],
 "metadata": {
  "kernelspec": {
   "display_name": ".venv",
   "language": "python",
   "name": "python3"
  },
  "language_info": {
   "codemirror_mode": {
    "name": "ipython",
    "version": 3
   },
   "file_extension": ".py",
   "mimetype": "text/x-python",
   "name": "python",
   "nbconvert_exporter": "python",
   "pygments_lexer": "ipython3",
   "version": "3.11.3"
  }
 },
 "nbformat": 4,
 "nbformat_minor": 2
}
